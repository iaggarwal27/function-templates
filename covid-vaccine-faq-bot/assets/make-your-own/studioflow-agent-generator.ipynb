{
  "nbformat": 4,
  "nbformat_minor": 0,
  "metadata": {
    "colab": {
      "name": "studioflow-agent-generator.ipynb",
      "provenance": [],
      "collapsed_sections": [],
      "toc_visible": true
    },
    "kernelspec": {
      "name": "python3",
      "display_name": "Python 3"
    },
    "language_info": {
      "name": "python"
    },
    "accelerator": "GPU",
    "widgets": {
      "application/vnd.jupyter.widget-state+json": {
        "c98f19fe816344c7b33a11f32430a228": {
          "model_module": "@jupyter-widgets/controls",
          "model_name": "HBoxModel",
          "state": {
            "_view_name": "HBoxView",
            "_dom_classes": [],
            "_model_name": "HBoxModel",
            "_view_module": "@jupyter-widgets/controls",
            "_model_module_version": "1.5.0",
            "_view_count": null,
            "_view_module_version": "1.5.0",
            "box_style": "",
            "layout": "IPY_MODEL_a9eb02ed338e46ef96ecb140515fb6bf",
            "_model_module": "@jupyter-widgets/controls",
            "children": [
              "IPY_MODEL_c326efb9c00743609e271994e6fc325c",
              "IPY_MODEL_ce60c460e0a2486c881eaf3a124a2d28"
            ]
          }
        },
        "a9eb02ed338e46ef96ecb140515fb6bf": {
          "model_module": "@jupyter-widgets/base",
          "model_name": "LayoutModel",
          "state": {
            "_view_name": "LayoutView",
            "grid_template_rows": null,
            "right": null,
            "justify_content": null,
            "_view_module": "@jupyter-widgets/base",
            "overflow": null,
            "_model_module_version": "1.2.0",
            "_view_count": null,
            "flex_flow": null,
            "width": null,
            "min_width": null,
            "border": null,
            "align_items": null,
            "bottom": null,
            "_model_module": "@jupyter-widgets/base",
            "top": null,
            "grid_column": null,
            "overflow_y": null,
            "overflow_x": null,
            "grid_auto_flow": null,
            "grid_area": null,
            "grid_template_columns": null,
            "flex": null,
            "_model_name": "LayoutModel",
            "justify_items": null,
            "grid_row": null,
            "max_height": null,
            "align_content": null,
            "visibility": null,
            "align_self": null,
            "height": null,
            "min_height": null,
            "padding": null,
            "grid_auto_rows": null,
            "grid_gap": null,
            "max_width": null,
            "order": null,
            "_view_module_version": "1.2.0",
            "grid_template_areas": null,
            "object_position": null,
            "object_fit": null,
            "grid_auto_columns": null,
            "margin": null,
            "display": null,
            "left": null
          }
        },
        "c326efb9c00743609e271994e6fc325c": {
          "model_module": "@jupyter-widgets/controls",
          "model_name": "FloatProgressModel",
          "state": {
            "_view_name": "ProgressView",
            "style": "IPY_MODEL_f052d0de29684359ba78627b528b064b",
            "_dom_classes": [],
            "description": "Downloading: 100%",
            "_model_name": "FloatProgressModel",
            "bar_style": "success",
            "max": 1208,
            "_view_module": "@jupyter-widgets/controls",
            "_model_module_version": "1.5.0",
            "value": 1208,
            "_view_count": null,
            "_view_module_version": "1.5.0",
            "orientation": "horizontal",
            "min": 0,
            "description_tooltip": null,
            "_model_module": "@jupyter-widgets/controls",
            "layout": "IPY_MODEL_ad1dea965df94689a208df8dc27a5057"
          }
        },
        "ce60c460e0a2486c881eaf3a124a2d28": {
          "model_module": "@jupyter-widgets/controls",
          "model_name": "HTMLModel",
          "state": {
            "_view_name": "HTMLView",
            "style": "IPY_MODEL_54001f1c76944d05a890f80e1e7afc30",
            "_dom_classes": [],
            "description": "",
            "_model_name": "HTMLModel",
            "placeholder": "​",
            "_view_module": "@jupyter-widgets/controls",
            "_model_module_version": "1.5.0",
            "value": " 1.21k/1.21k [00:00&lt;00:00, 25.0kB/s]",
            "_view_count": null,
            "_view_module_version": "1.5.0",
            "description_tooltip": null,
            "_model_module": "@jupyter-widgets/controls",
            "layout": "IPY_MODEL_c03bcf24fb9c4dbe9d1f2cd34acffcac"
          }
        },
        "f052d0de29684359ba78627b528b064b": {
          "model_module": "@jupyter-widgets/controls",
          "model_name": "ProgressStyleModel",
          "state": {
            "_view_name": "StyleView",
            "_model_name": "ProgressStyleModel",
            "description_width": "initial",
            "_view_module": "@jupyter-widgets/base",
            "_model_module_version": "1.5.0",
            "_view_count": null,
            "_view_module_version": "1.2.0",
            "bar_color": null,
            "_model_module": "@jupyter-widgets/controls"
          }
        },
        "ad1dea965df94689a208df8dc27a5057": {
          "model_module": "@jupyter-widgets/base",
          "model_name": "LayoutModel",
          "state": {
            "_view_name": "LayoutView",
            "grid_template_rows": null,
            "right": null,
            "justify_content": null,
            "_view_module": "@jupyter-widgets/base",
            "overflow": null,
            "_model_module_version": "1.2.0",
            "_view_count": null,
            "flex_flow": null,
            "width": null,
            "min_width": null,
            "border": null,
            "align_items": null,
            "bottom": null,
            "_model_module": "@jupyter-widgets/base",
            "top": null,
            "grid_column": null,
            "overflow_y": null,
            "overflow_x": null,
            "grid_auto_flow": null,
            "grid_area": null,
            "grid_template_columns": null,
            "flex": null,
            "_model_name": "LayoutModel",
            "justify_items": null,
            "grid_row": null,
            "max_height": null,
            "align_content": null,
            "visibility": null,
            "align_self": null,
            "height": null,
            "min_height": null,
            "padding": null,
            "grid_auto_rows": null,
            "grid_gap": null,
            "max_width": null,
            "order": null,
            "_view_module_version": "1.2.0",
            "grid_template_areas": null,
            "object_position": null,
            "object_fit": null,
            "grid_auto_columns": null,
            "margin": null,
            "display": null,
            "left": null
          }
        },
        "54001f1c76944d05a890f80e1e7afc30": {
          "model_module": "@jupyter-widgets/controls",
          "model_name": "DescriptionStyleModel",
          "state": {
            "_view_name": "StyleView",
            "_model_name": "DescriptionStyleModel",
            "description_width": "",
            "_view_module": "@jupyter-widgets/base",
            "_model_module_version": "1.5.0",
            "_view_count": null,
            "_view_module_version": "1.2.0",
            "_model_module": "@jupyter-widgets/controls"
          }
        },
        "c03bcf24fb9c4dbe9d1f2cd34acffcac": {
          "model_module": "@jupyter-widgets/base",
          "model_name": "LayoutModel",
          "state": {
            "_view_name": "LayoutView",
            "grid_template_rows": null,
            "right": null,
            "justify_content": null,
            "_view_module": "@jupyter-widgets/base",
            "overflow": null,
            "_model_module_version": "1.2.0",
            "_view_count": null,
            "flex_flow": null,
            "width": null,
            "min_width": null,
            "border": null,
            "align_items": null,
            "bottom": null,
            "_model_module": "@jupyter-widgets/base",
            "top": null,
            "grid_column": null,
            "overflow_y": null,
            "overflow_x": null,
            "grid_auto_flow": null,
            "grid_area": null,
            "grid_template_columns": null,
            "flex": null,
            "_model_name": "LayoutModel",
            "justify_items": null,
            "grid_row": null,
            "max_height": null,
            "align_content": null,
            "visibility": null,
            "align_self": null,
            "height": null,
            "min_height": null,
            "padding": null,
            "grid_auto_rows": null,
            "grid_gap": null,
            "max_width": null,
            "order": null,
            "_view_module_version": "1.2.0",
            "grid_template_areas": null,
            "object_position": null,
            "object_fit": null,
            "grid_auto_columns": null,
            "margin": null,
            "display": null,
            "left": null
          }
        },
        "ce687a67b0f6478c8eeec3e4956a3cf9": {
          "model_module": "@jupyter-widgets/controls",
          "model_name": "HBoxModel",
          "state": {
            "_view_name": "HBoxView",
            "_dom_classes": [],
            "_model_name": "HBoxModel",
            "_view_module": "@jupyter-widgets/controls",
            "_model_module_version": "1.5.0",
            "_view_count": null,
            "_view_module_version": "1.5.0",
            "box_style": "",
            "layout": "IPY_MODEL_59de4c868a2f43aab67b01eeda166e85",
            "_model_module": "@jupyter-widgets/controls",
            "children": [
              "IPY_MODEL_813ea5767d73460d8962187178aaeca6",
              "IPY_MODEL_76ff49d717a249de9d28a462a137d415"
            ]
          }
        },
        "59de4c868a2f43aab67b01eeda166e85": {
          "model_module": "@jupyter-widgets/base",
          "model_name": "LayoutModel",
          "state": {
            "_view_name": "LayoutView",
            "grid_template_rows": null,
            "right": null,
            "justify_content": null,
            "_view_module": "@jupyter-widgets/base",
            "overflow": null,
            "_model_module_version": "1.2.0",
            "_view_count": null,
            "flex_flow": null,
            "width": null,
            "min_width": null,
            "border": null,
            "align_items": null,
            "bottom": null,
            "_model_module": "@jupyter-widgets/base",
            "top": null,
            "grid_column": null,
            "overflow_y": null,
            "overflow_x": null,
            "grid_auto_flow": null,
            "grid_area": null,
            "grid_template_columns": null,
            "flex": null,
            "_model_name": "LayoutModel",
            "justify_items": null,
            "grid_row": null,
            "max_height": null,
            "align_content": null,
            "visibility": null,
            "align_self": null,
            "height": null,
            "min_height": null,
            "padding": null,
            "grid_auto_rows": null,
            "grid_gap": null,
            "max_width": null,
            "order": null,
            "_view_module_version": "1.2.0",
            "grid_template_areas": null,
            "object_position": null,
            "object_fit": null,
            "grid_auto_columns": null,
            "margin": null,
            "display": null,
            "left": null
          }
        },
        "813ea5767d73460d8962187178aaeca6": {
          "model_module": "@jupyter-widgets/controls",
          "model_name": "FloatProgressModel",
          "state": {
            "_view_name": "ProgressView",
            "style": "IPY_MODEL_34a3496f7e8a4c8ba2ea85a1e33c395b",
            "_dom_classes": [],
            "description": "Downloading: 100%",
            "_model_name": "FloatProgressModel",
            "bar_style": "success",
            "max": 891691413,
            "_view_module": "@jupyter-widgets/controls",
            "_model_module_version": "1.5.0",
            "value": 891691413,
            "_view_count": null,
            "_view_module_version": "1.5.0",
            "orientation": "horizontal",
            "min": 0,
            "description_tooltip": null,
            "_model_module": "@jupyter-widgets/controls",
            "layout": "IPY_MODEL_2a951fa9a796431080f2cd98a93ec390"
          }
        },
        "76ff49d717a249de9d28a462a137d415": {
          "model_module": "@jupyter-widgets/controls",
          "model_name": "HTMLModel",
          "state": {
            "_view_name": "HTMLView",
            "style": "IPY_MODEL_f720b10ba8364d9ea89e0b10abca45e2",
            "_dom_classes": [],
            "description": "",
            "_model_name": "HTMLModel",
            "placeholder": "​",
            "_view_module": "@jupyter-widgets/controls",
            "_model_module_version": "1.5.0",
            "value": " 892M/892M [00:19&lt;00:00, 46.5MB/s]",
            "_view_count": null,
            "_view_module_version": "1.5.0",
            "description_tooltip": null,
            "_model_module": "@jupyter-widgets/controls",
            "layout": "IPY_MODEL_55c3d37e3db9405b843c745710b64355"
          }
        },
        "34a3496f7e8a4c8ba2ea85a1e33c395b": {
          "model_module": "@jupyter-widgets/controls",
          "model_name": "ProgressStyleModel",
          "state": {
            "_view_name": "StyleView",
            "_model_name": "ProgressStyleModel",
            "description_width": "initial",
            "_view_module": "@jupyter-widgets/base",
            "_model_module_version": "1.5.0",
            "_view_count": null,
            "_view_module_version": "1.2.0",
            "bar_color": null,
            "_model_module": "@jupyter-widgets/controls"
          }
        },
        "2a951fa9a796431080f2cd98a93ec390": {
          "model_module": "@jupyter-widgets/base",
          "model_name": "LayoutModel",
          "state": {
            "_view_name": "LayoutView",
            "grid_template_rows": null,
            "right": null,
            "justify_content": null,
            "_view_module": "@jupyter-widgets/base",
            "overflow": null,
            "_model_module_version": "1.2.0",
            "_view_count": null,
            "flex_flow": null,
            "width": null,
            "min_width": null,
            "border": null,
            "align_items": null,
            "bottom": null,
            "_model_module": "@jupyter-widgets/base",
            "top": null,
            "grid_column": null,
            "overflow_y": null,
            "overflow_x": null,
            "grid_auto_flow": null,
            "grid_area": null,
            "grid_template_columns": null,
            "flex": null,
            "_model_name": "LayoutModel",
            "justify_items": null,
            "grid_row": null,
            "max_height": null,
            "align_content": null,
            "visibility": null,
            "align_self": null,
            "height": null,
            "min_height": null,
            "padding": null,
            "grid_auto_rows": null,
            "grid_gap": null,
            "max_width": null,
            "order": null,
            "_view_module_version": "1.2.0",
            "grid_template_areas": null,
            "object_position": null,
            "object_fit": null,
            "grid_auto_columns": null,
            "margin": null,
            "display": null,
            "left": null
          }
        },
        "f720b10ba8364d9ea89e0b10abca45e2": {
          "model_module": "@jupyter-widgets/controls",
          "model_name": "DescriptionStyleModel",
          "state": {
            "_view_name": "StyleView",
            "_model_name": "DescriptionStyleModel",
            "description_width": "",
            "_view_module": "@jupyter-widgets/base",
            "_model_module_version": "1.5.0",
            "_view_count": null,
            "_view_module_version": "1.2.0",
            "_model_module": "@jupyter-widgets/controls"
          }
        },
        "55c3d37e3db9405b843c745710b64355": {
          "model_module": "@jupyter-widgets/base",
          "model_name": "LayoutModel",
          "state": {
            "_view_name": "LayoutView",
            "grid_template_rows": null,
            "right": null,
            "justify_content": null,
            "_view_module": "@jupyter-widgets/base",
            "overflow": null,
            "_model_module_version": "1.2.0",
            "_view_count": null,
            "flex_flow": null,
            "width": null,
            "min_width": null,
            "border": null,
            "align_items": null,
            "bottom": null,
            "_model_module": "@jupyter-widgets/base",
            "top": null,
            "grid_column": null,
            "overflow_y": null,
            "overflow_x": null,
            "grid_auto_flow": null,
            "grid_area": null,
            "grid_template_columns": null,
            "flex": null,
            "_model_name": "LayoutModel",
            "justify_items": null,
            "grid_row": null,
            "max_height": null,
            "align_content": null,
            "visibility": null,
            "align_self": null,
            "height": null,
            "min_height": null,
            "padding": null,
            "grid_auto_rows": null,
            "grid_gap": null,
            "max_width": null,
            "order": null,
            "_view_module_version": "1.2.0",
            "grid_template_areas": null,
            "object_position": null,
            "object_fit": null,
            "grid_auto_columns": null,
            "margin": null,
            "display": null,
            "left": null
          }
        },
        "e9df739763c94dd681e8c4d7d8fb8e79": {
          "model_module": "@jupyter-widgets/controls",
          "model_name": "HBoxModel",
          "state": {
            "_view_name": "HBoxView",
            "_dom_classes": [],
            "_model_name": "HBoxModel",
            "_view_module": "@jupyter-widgets/controls",
            "_model_module_version": "1.5.0",
            "_view_count": null,
            "_view_module_version": "1.5.0",
            "box_style": "",
            "layout": "IPY_MODEL_774447d21d3d4852b5afc92cde89b178",
            "_model_module": "@jupyter-widgets/controls",
            "children": [
              "IPY_MODEL_8eee104fe1ae4d7385917c98efa7bc61",
              "IPY_MODEL_b31b2e772e1f4a64a7926b18966d2d54"
            ]
          }
        },
        "ba0b3a538e7a4d52b91463542e083344": {
          "model_module": "@jupyter-widgets/controls",
          "model_name": "HBoxModel",
          "state": {
            "_view_name": "HBoxView",
            "_dom_classes": [],
            "_model_name": "HBoxModel",
            "_view_module": "@jupyter-widgets/controls",
            "_model_module_version": "1.5.0",
            "_view_count": null,
            "_view_module_version": "1.5.0",
            "box_style": "",
            "layout": "IPY_MODEL_518ce359e14d4afea41c294f8d7ce20b",
            "_model_module": "@jupyter-widgets/controls",
            "children": [
              "IPY_MODEL_4604fcef61f049f4a699d28a4266b80f",
              "IPY_MODEL_20e3245135724999b3c33cd9de22a2c8"
            ]
          }
        },
        "774447d21d3d4852b5afc92cde89b178": {
          "model_module": "@jupyter-widgets/base",
          "model_name": "LayoutModel",
          "state": {
            "_view_name": "LayoutView",
            "grid_template_rows": null,
            "right": null,
            "justify_content": null,
            "_view_module": "@jupyter-widgets/base",
            "overflow": null,
            "_model_module_version": "1.2.0",
            "_view_count": null,
            "flex_flow": null,
            "width": null,
            "min_width": null,
            "border": null,
            "align_items": null,
            "bottom": null,
            "_model_module": "@jupyter-widgets/base",
            "top": null,
            "grid_column": null,
            "overflow_y": null,
            "overflow_x": null,
            "grid_auto_flow": null,
            "grid_area": null,
            "grid_template_columns": null,
            "flex": null,
            "_model_name": "LayoutModel",
            "justify_items": null,
            "grid_row": null,
            "max_height": null,
            "align_content": null,
            "visibility": null,
            "align_self": null,
            "height": null,
            "min_height": null,
            "padding": null,
            "grid_auto_rows": null,
            "grid_gap": null,
            "max_width": null,
            "order": null,
            "_view_module_version": "1.2.0",
            "grid_template_areas": null,
            "object_position": null,
            "object_fit": null,
            "grid_auto_columns": null,
            "margin": null,
            "display": null,
            "left": null
          }
        },
        "8eee104fe1ae4d7385917c98efa7bc61": {
          "model_module": "@jupyter-widgets/controls",
          "model_name": "FloatProgressModel",
          "state": {
            "_view_name": "ProgressView",
            "style": "IPY_MODEL_fbc7e093acfa41b9acb7c524549ac14f",
            "_dom_classes": [],
            "description": "Downloading: 100%",
            "_model_name": "FloatProgressModel",
            "bar_style": "success",
            "max": 791656,
            "_view_module": "@jupyter-widgets/controls",
            "_model_module_version": "1.5.0",
            "value": 791656,
            "_view_count": null,
            "_view_module_version": "1.5.0",
            "orientation": "horizontal",
            "min": 0,
            "description_tooltip": null,
            "_model_module": "@jupyter-widgets/controls",
            "layout": "IPY_MODEL_69a94fc2b4104f338bf8a1f1889443c5"
          }
        },
        "b31b2e772e1f4a64a7926b18966d2d54": {
          "model_module": "@jupyter-widgets/controls",
          "model_name": "HTMLModel",
          "state": {
            "_view_name": "HTMLView",
            "style": "IPY_MODEL_9d94fcefe03d4bfeb65c8673edbadd0e",
            "_dom_classes": [],
            "description": "",
            "_model_name": "HTMLModel",
            "placeholder": "​",
            "_view_module": "@jupyter-widgets/controls",
            "_model_module_version": "1.5.0",
            "value": " 792k/792k [00:00&lt;00:00, 3.40MB/s]",
            "_view_count": null,
            "_view_module_version": "1.5.0",
            "description_tooltip": null,
            "_model_module": "@jupyter-widgets/controls",
            "layout": "IPY_MODEL_6f4f3ec8546944118c5dd35ae72c5dc7"
          }
        },
        "fbc7e093acfa41b9acb7c524549ac14f": {
          "model_module": "@jupyter-widgets/controls",
          "model_name": "ProgressStyleModel",
          "state": {
            "_view_name": "StyleView",
            "_model_name": "ProgressStyleModel",
            "description_width": "initial",
            "_view_module": "@jupyter-widgets/base",
            "_model_module_version": "1.5.0",
            "_view_count": null,
            "_view_module_version": "1.2.0",
            "bar_color": null,
            "_model_module": "@jupyter-widgets/controls"
          }
        },
        "69a94fc2b4104f338bf8a1f1889443c5": {
          "model_module": "@jupyter-widgets/base",
          "model_name": "LayoutModel",
          "state": {
            "_view_name": "LayoutView",
            "grid_template_rows": null,
            "right": null,
            "justify_content": null,
            "_view_module": "@jupyter-widgets/base",
            "overflow": null,
            "_model_module_version": "1.2.0",
            "_view_count": null,
            "flex_flow": null,
            "width": null,
            "min_width": null,
            "border": null,
            "align_items": null,
            "bottom": null,
            "_model_module": "@jupyter-widgets/base",
            "top": null,
            "grid_column": null,
            "overflow_y": null,
            "overflow_x": null,
            "grid_auto_flow": null,
            "grid_area": null,
            "grid_template_columns": null,
            "flex": null,
            "_model_name": "LayoutModel",
            "justify_items": null,
            "grid_row": null,
            "max_height": null,
            "align_content": null,
            "visibility": null,
            "align_self": null,
            "height": null,
            "min_height": null,
            "padding": null,
            "grid_auto_rows": null,
            "grid_gap": null,
            "max_width": null,
            "order": null,
            "_view_module_version": "1.2.0",
            "grid_template_areas": null,
            "object_position": null,
            "object_fit": null,
            "grid_auto_columns": null,
            "margin": null,
            "display": null,
            "left": null
          }
        },
        "9d94fcefe03d4bfeb65c8673edbadd0e": {
          "model_module": "@jupyter-widgets/controls",
          "model_name": "DescriptionStyleModel",
          "state": {
            "_view_name": "StyleView",
            "_model_name": "DescriptionStyleModel",
            "description_width": "",
            "_view_module": "@jupyter-widgets/base",
            "_model_module_version": "1.5.0",
            "_view_count": null,
            "_view_module_version": "1.2.0",
            "_model_module": "@jupyter-widgets/controls"
          }
        },
        "6f4f3ec8546944118c5dd35ae72c5dc7": {
          "model_module": "@jupyter-widgets/base",
          "model_name": "LayoutModel",
          "state": {
            "_view_name": "LayoutView",
            "grid_template_rows": null,
            "right": null,
            "justify_content": null,
            "_view_module": "@jupyter-widgets/base",
            "overflow": null,
            "_model_module_version": "1.2.0",
            "_view_count": null,
            "flex_flow": null,
            "width": null,
            "min_width": null,
            "border": null,
            "align_items": null,
            "bottom": null,
            "_model_module": "@jupyter-widgets/base",
            "top": null,
            "grid_column": null,
            "overflow_y": null,
            "overflow_x": null,
            "grid_auto_flow": null,
            "grid_area": null,
            "grid_template_columns": null,
            "flex": null,
            "_model_name": "LayoutModel",
            "justify_items": null,
            "grid_row": null,
            "max_height": null,
            "align_content": null,
            "visibility": null,
            "align_self": null,
            "height": null,
            "min_height": null,
            "padding": null,
            "grid_auto_rows": null,
            "grid_gap": null,
            "max_width": null,
            "order": null,
            "_view_module_version": "1.2.0",
            "grid_template_areas": null,
            "object_position": null,
            "object_fit": null,
            "grid_auto_columns": null,
            "margin": null,
            "display": null,
            "left": null
          }
        },
        "518ce359e14d4afea41c294f8d7ce20b": {
          "model_module": "@jupyter-widgets/base",
          "model_name": "LayoutModel",
          "state": {
            "_view_name": "LayoutView",
            "grid_template_rows": null,
            "right": null,
            "justify_content": null,
            "_view_module": "@jupyter-widgets/base",
            "overflow": null,
            "_model_module_version": "1.2.0",
            "_view_count": null,
            "flex_flow": null,
            "width": null,
            "min_width": null,
            "border": null,
            "align_items": null,
            "bottom": null,
            "_model_module": "@jupyter-widgets/base",
            "top": null,
            "grid_column": null,
            "overflow_y": null,
            "overflow_x": null,
            "grid_auto_flow": null,
            "grid_area": null,
            "grid_template_columns": null,
            "flex": null,
            "_model_name": "LayoutModel",
            "justify_items": null,
            "grid_row": null,
            "max_height": null,
            "align_content": null,
            "visibility": null,
            "align_self": null,
            "height": null,
            "min_height": null,
            "padding": null,
            "grid_auto_rows": null,
            "grid_gap": null,
            "max_width": null,
            "order": null,
            "_view_module_version": "1.2.0",
            "grid_template_areas": null,
            "object_position": null,
            "object_fit": null,
            "grid_auto_columns": null,
            "margin": null,
            "display": null,
            "left": null
          }
        },
        "4604fcef61f049f4a699d28a4266b80f": {
          "model_module": "@jupyter-widgets/controls",
          "model_name": "FloatProgressModel",
          "state": {
            "_view_name": "ProgressView",
            "style": "IPY_MODEL_e838edf1ea444b369b453cd2774dedbc",
            "_dom_classes": [],
            "description": "Downloading: 100%",
            "_model_name": "FloatProgressModel",
            "bar_style": "success",
            "max": 1786,
            "_view_module": "@jupyter-widgets/controls",
            "_model_module_version": "1.5.0",
            "value": 1786,
            "_view_count": null,
            "_view_module_version": "1.5.0",
            "orientation": "horizontal",
            "min": 0,
            "description_tooltip": null,
            "_model_module": "@jupyter-widgets/controls",
            "layout": "IPY_MODEL_ed44e14bb00042daa6612b4f4196e7c6"
          }
        },
        "20e3245135724999b3c33cd9de22a2c8": {
          "model_module": "@jupyter-widgets/controls",
          "model_name": "HTMLModel",
          "state": {
            "_view_name": "HTMLView",
            "style": "IPY_MODEL_3f4823efd5bc4fecba37f5c88c0372b6",
            "_dom_classes": [],
            "description": "",
            "_model_name": "HTMLModel",
            "placeholder": "​",
            "_view_module": "@jupyter-widgets/controls",
            "_model_module_version": "1.5.0",
            "value": " 1.79k/1.79k [01:28&lt;00:00, 20.1B/s]",
            "_view_count": null,
            "_view_module_version": "1.5.0",
            "description_tooltip": null,
            "_model_module": "@jupyter-widgets/controls",
            "layout": "IPY_MODEL_902c48f831f8401e8fc00b13b6d3880f"
          }
        },
        "e838edf1ea444b369b453cd2774dedbc": {
          "model_module": "@jupyter-widgets/controls",
          "model_name": "ProgressStyleModel",
          "state": {
            "_view_name": "StyleView",
            "_model_name": "ProgressStyleModel",
            "description_width": "initial",
            "_view_module": "@jupyter-widgets/base",
            "_model_module_version": "1.5.0",
            "_view_count": null,
            "_view_module_version": "1.2.0",
            "bar_color": null,
            "_model_module": "@jupyter-widgets/controls"
          }
        },
        "ed44e14bb00042daa6612b4f4196e7c6": {
          "model_module": "@jupyter-widgets/base",
          "model_name": "LayoutModel",
          "state": {
            "_view_name": "LayoutView",
            "grid_template_rows": null,
            "right": null,
            "justify_content": null,
            "_view_module": "@jupyter-widgets/base",
            "overflow": null,
            "_model_module_version": "1.2.0",
            "_view_count": null,
            "flex_flow": null,
            "width": null,
            "min_width": null,
            "border": null,
            "align_items": null,
            "bottom": null,
            "_model_module": "@jupyter-widgets/base",
            "top": null,
            "grid_column": null,
            "overflow_y": null,
            "overflow_x": null,
            "grid_auto_flow": null,
            "grid_area": null,
            "grid_template_columns": null,
            "flex": null,
            "_model_name": "LayoutModel",
            "justify_items": null,
            "grid_row": null,
            "max_height": null,
            "align_content": null,
            "visibility": null,
            "align_self": null,
            "height": null,
            "min_height": null,
            "padding": null,
            "grid_auto_rows": null,
            "grid_gap": null,
            "max_width": null,
            "order": null,
            "_view_module_version": "1.2.0",
            "grid_template_areas": null,
            "object_position": null,
            "object_fit": null,
            "grid_auto_columns": null,
            "margin": null,
            "display": null,
            "left": null
          }
        },
        "3f4823efd5bc4fecba37f5c88c0372b6": {
          "model_module": "@jupyter-widgets/controls",
          "model_name": "DescriptionStyleModel",
          "state": {
            "_view_name": "StyleView",
            "_model_name": "DescriptionStyleModel",
            "description_width": "",
            "_view_module": "@jupyter-widgets/base",
            "_model_module_version": "1.5.0",
            "_view_count": null,
            "_view_module_version": "1.2.0",
            "_model_module": "@jupyter-widgets/controls"
          }
        },
        "902c48f831f8401e8fc00b13b6d3880f": {
          "model_module": "@jupyter-widgets/base",
          "model_name": "LayoutModel",
          "state": {
            "_view_name": "LayoutView",
            "grid_template_rows": null,
            "right": null,
            "justify_content": null,
            "_view_module": "@jupyter-widgets/base",
            "overflow": null,
            "_model_module_version": "1.2.0",
            "_view_count": null,
            "flex_flow": null,
            "width": null,
            "min_width": null,
            "border": null,
            "align_items": null,
            "bottom": null,
            "_model_module": "@jupyter-widgets/base",
            "top": null,
            "grid_column": null,
            "overflow_y": null,
            "overflow_x": null,
            "grid_auto_flow": null,
            "grid_area": null,
            "grid_template_columns": null,
            "flex": null,
            "_model_name": "LayoutModel",
            "justify_items": null,
            "grid_row": null,
            "max_height": null,
            "align_content": null,
            "visibility": null,
            "align_self": null,
            "height": null,
            "min_height": null,
            "padding": null,
            "grid_auto_rows": null,
            "grid_gap": null,
            "max_width": null,
            "order": null,
            "_view_module_version": "1.2.0",
            "grid_template_areas": null,
            "object_position": null,
            "object_fit": null,
            "grid_auto_columns": null,
            "margin": null,
            "display": null,
            "left": null
          }
        },
        "3255c2d605c74797b9a75ecdba290300": {
          "model_module": "@jupyter-widgets/controls",
          "model_name": "HBoxModel",
          "state": {
            "_view_name": "HBoxView",
            "_dom_classes": [],
            "_model_name": "HBoxModel",
            "_view_module": "@jupyter-widgets/controls",
            "_model_module_version": "1.5.0",
            "_view_count": null,
            "_view_module_version": "1.5.0",
            "box_style": "",
            "layout": "IPY_MODEL_0a28fca601734db4956f8e54b482f68d",
            "_model_module": "@jupyter-widgets/controls",
            "children": [
              "IPY_MODEL_b8c9f16e7a934509bd0c93af5fa07971",
              "IPY_MODEL_a1e8be85eb7643a18ff3e7aee384a417"
            ]
          }
        },
        "0a28fca601734db4956f8e54b482f68d": {
          "model_module": "@jupyter-widgets/base",
          "model_name": "LayoutModel",
          "state": {
            "_view_name": "LayoutView",
            "grid_template_rows": null,
            "right": null,
            "justify_content": null,
            "_view_module": "@jupyter-widgets/base",
            "overflow": null,
            "_model_module_version": "1.2.0",
            "_view_count": null,
            "flex_flow": null,
            "width": null,
            "min_width": null,
            "border": null,
            "align_items": null,
            "bottom": null,
            "_model_module": "@jupyter-widgets/base",
            "top": null,
            "grid_column": null,
            "overflow_y": null,
            "overflow_x": null,
            "grid_auto_flow": null,
            "grid_area": null,
            "grid_template_columns": null,
            "flex": null,
            "_model_name": "LayoutModel",
            "justify_items": null,
            "grid_row": null,
            "max_height": null,
            "align_content": null,
            "visibility": null,
            "align_self": null,
            "height": null,
            "min_height": null,
            "padding": null,
            "grid_auto_rows": null,
            "grid_gap": null,
            "max_width": null,
            "order": null,
            "_view_module_version": "1.2.0",
            "grid_template_areas": null,
            "object_position": null,
            "object_fit": null,
            "grid_auto_columns": null,
            "margin": null,
            "display": null,
            "left": null
          }
        },
        "b8c9f16e7a934509bd0c93af5fa07971": {
          "model_module": "@jupyter-widgets/controls",
          "model_name": "FloatProgressModel",
          "state": {
            "_view_name": "ProgressView",
            "style": "IPY_MODEL_278ddf48d93643e081f961e5a90e160e",
            "_dom_classes": [],
            "description": "Downloading: 100%",
            "_model_name": "FloatProgressModel",
            "bar_style": "success",
            "max": 25,
            "_view_module": "@jupyter-widgets/controls",
            "_model_module_version": "1.5.0",
            "value": 25,
            "_view_count": null,
            "_view_module_version": "1.5.0",
            "orientation": "horizontal",
            "min": 0,
            "description_tooltip": null,
            "_model_module": "@jupyter-widgets/controls",
            "layout": "IPY_MODEL_b0474327a7e84637aebf16e6ea077bee"
          }
        },
        "a1e8be85eb7643a18ff3e7aee384a417": {
          "model_module": "@jupyter-widgets/controls",
          "model_name": "HTMLModel",
          "state": {
            "_view_name": "HTMLView",
            "style": "IPY_MODEL_e324bfbfe0624ee890d210707b89acaa",
            "_dom_classes": [],
            "description": "",
            "_model_name": "HTMLModel",
            "placeholder": "​",
            "_view_module": "@jupyter-widgets/controls",
            "_model_module_version": "1.5.0",
            "value": " 25.0/25.0 [00:36&lt;00:00, 1.48s/B]",
            "_view_count": null,
            "_view_module_version": "1.5.0",
            "description_tooltip": null,
            "_model_module": "@jupyter-widgets/controls",
            "layout": "IPY_MODEL_f70f1b327dc04fb18fdd00bd2ef6f3e9"
          }
        },
        "278ddf48d93643e081f961e5a90e160e": {
          "model_module": "@jupyter-widgets/controls",
          "model_name": "ProgressStyleModel",
          "state": {
            "_view_name": "StyleView",
            "_model_name": "ProgressStyleModel",
            "description_width": "initial",
            "_view_module": "@jupyter-widgets/base",
            "_model_module_version": "1.5.0",
            "_view_count": null,
            "_view_module_version": "1.2.0",
            "bar_color": null,
            "_model_module": "@jupyter-widgets/controls"
          }
        },
        "b0474327a7e84637aebf16e6ea077bee": {
          "model_module": "@jupyter-widgets/base",
          "model_name": "LayoutModel",
          "state": {
            "_view_name": "LayoutView",
            "grid_template_rows": null,
            "right": null,
            "justify_content": null,
            "_view_module": "@jupyter-widgets/base",
            "overflow": null,
            "_model_module_version": "1.2.0",
            "_view_count": null,
            "flex_flow": null,
            "width": null,
            "min_width": null,
            "border": null,
            "align_items": null,
            "bottom": null,
            "_model_module": "@jupyter-widgets/base",
            "top": null,
            "grid_column": null,
            "overflow_y": null,
            "overflow_x": null,
            "grid_auto_flow": null,
            "grid_area": null,
            "grid_template_columns": null,
            "flex": null,
            "_model_name": "LayoutModel",
            "justify_items": null,
            "grid_row": null,
            "max_height": null,
            "align_content": null,
            "visibility": null,
            "align_self": null,
            "height": null,
            "min_height": null,
            "padding": null,
            "grid_auto_rows": null,
            "grid_gap": null,
            "max_width": null,
            "order": null,
            "_view_module_version": "1.2.0",
            "grid_template_areas": null,
            "object_position": null,
            "object_fit": null,
            "grid_auto_columns": null,
            "margin": null,
            "display": null,
            "left": null
          }
        },
        "e324bfbfe0624ee890d210707b89acaa": {
          "model_module": "@jupyter-widgets/controls",
          "model_name": "DescriptionStyleModel",
          "state": {
            "_view_name": "StyleView",
            "_model_name": "DescriptionStyleModel",
            "description_width": "",
            "_view_module": "@jupyter-widgets/base",
            "_model_module_version": "1.5.0",
            "_view_count": null,
            "_view_module_version": "1.2.0",
            "_model_module": "@jupyter-widgets/controls"
          }
        },
        "f70f1b327dc04fb18fdd00bd2ef6f3e9": {
          "model_module": "@jupyter-widgets/base",
          "model_name": "LayoutModel",
          "state": {
            "_view_name": "LayoutView",
            "grid_template_rows": null,
            "right": null,
            "justify_content": null,
            "_view_module": "@jupyter-widgets/base",
            "overflow": null,
            "_model_module_version": "1.2.0",
            "_view_count": null,
            "flex_flow": null,
            "width": null,
            "min_width": null,
            "border": null,
            "align_items": null,
            "bottom": null,
            "_model_module": "@jupyter-widgets/base",
            "top": null,
            "grid_column": null,
            "overflow_y": null,
            "overflow_x": null,
            "grid_auto_flow": null,
            "grid_area": null,
            "grid_template_columns": null,
            "flex": null,
            "_model_name": "LayoutModel",
            "justify_items": null,
            "grid_row": null,
            "max_height": null,
            "align_content": null,
            "visibility": null,
            "align_self": null,
            "height": null,
            "min_height": null,
            "padding": null,
            "grid_auto_rows": null,
            "grid_gap": null,
            "max_width": null,
            "order": null,
            "_view_module_version": "1.2.0",
            "grid_template_areas": null,
            "object_position": null,
            "object_fit": null,
            "grid_auto_columns": null,
            "margin": null,
            "display": null,
            "left": null
          }
        }
      }
    }
  },
  "cells": [
    {
      "cell_type": "markdown",
      "metadata": {
        "id": "Kqe75du-hr0M"
      },
      "source": [
        "# Create Your Own Chatbot\n",
        "\n",
        "In this notebook, you can create a series of intents with paraphrase generation and use those in a dialogflow agent"
      ]
    },
    {
      "cell_type": "markdown",
      "metadata": {
        "id": "PY5keZneixJp"
      },
      "source": [
        "You may optionally mount google drive to use one of its directories as a file system"
      ]
    },
    {
      "cell_type": "code",
      "metadata": {
        "colab": {
          "base_uri": "https://localhost:8080/"
        },
        "id": "WSZz2-jzh30-",
        "outputId": "1e55cb5e-8c76-4fa7-c525-d0e6abb25f04"
      },
      "source": [
        "from google.colab import drive\n",
        "drive.mount('/content/drive')"
      ],
      "execution_count": null,
      "outputs": [
        {
          "output_type": "stream",
          "text": [
            "Mounted at /content/drive\n"
          ],
          "name": "stdout"
        }
      ]
    },
    {
      "cell_type": "markdown",
      "metadata": {
        "id": "u7_jYVXtiUcC"
      },
      "source": [
        "Use this block to declare any variables you will use throughout the notebook"
      ]
    },
    {
      "cell_type": "code",
      "metadata": {
        "id": "GNM597EHl3sO"
      },
      "source": [
        "# path to the directory you wish to use as a file system\n",
        "BASE_PATH='/content/drive/MyDrive/VaccineFAQs-BigShot/questions'\n",
        "\n",
        "# path to the base HTML/XML file from which to extract QAs\n",
        "HTML_DOC_PATH = BASE_PATH + '/COVID-19-Vaccine-FAQs.html'\n",
        "\n",
        "# path to a simple QA CSV file which will be the basis for agent generation\n",
        "QA_CSV_SIMPLE_PATH = BASE_PATH + '/india-qa-simple.csv'\n",
        "\n",
        "# path to an intermediate CSV file which will contain dialogflow intents\n",
        "QA_CSV_FORMATTED_PATH = BASE_PATH + '/akuryla-qa-formatted.csv'"
      ],
      "execution_count": null,
      "outputs": []
    },
    {
      "cell_type": "markdown",
      "metadata": {
        "id": "DeLqgW7fjaqa"
      },
      "source": [
        "# Parsing an HTML File for Q/A Pairs (Example)\n",
        "\n",
        "We'll use lxml to parse Q/A pairs out of our HTML site, and export our parsed data into a simple Q/A CSV"
      ]
    },
    {
      "cell_type": "code",
      "metadata": {
        "id": "Y_jFwHO6S5bK"
      },
      "source": [
        "from lxml import html, etree\n",
        "\n",
        "# utility method to print xml elements\n",
        "def xml_print(elmt):\n",
        "  print(etree.tostring(elmt, pretty_print=True))\n",
        "\n",
        "# we fetch the content from the html document, stored in drive\n",
        "html_doc = open(HTML_DOC_PATH, mode='r')\n",
        "doc = html.parse(html_doc, parser=html.html_parser)\n",
        "\n",
        "# parse the html document into sets of Q/A pairs\n",
        "qa_pairs = []\n",
        "elmt_list=doc.xpath('/html/body/section[4]/div[1]/div/div/div[2]/div[2]/div/div/div/span/div')\n",
        "\n",
        "for elmt in elmt_list:\n",
        "  elmt_children = elmt.xpath('div')\n",
        "  qa_pairs.append([elmt_children[0].text_content(), elmt_children[1].text_content()])\n",
        "\n",
        "# utility function to print Q/A pairs\n",
        "def print_pairs(pairs):\n",
        "  for q, a in qa_pairs:\n",
        "    print(\"Q:\", q)\n",
        "    print(\"A:\", a, \"\\n\")\n",
        "\n",
        "print_pairs(qa_pairs)"
      ],
      "execution_count": null,
      "outputs": []
    },
    {
      "cell_type": "code",
      "metadata": {
        "id": "dR90b3v-i74l"
      },
      "source": [
        "import csv\n",
        "\n",
        "# write Q/A pairs to csv\n",
        "def write_pairs_to_csv(qa_pairs, csv_file_path):\n",
        "  with open(csv_file_path, 'w') as csvfile:\n",
        "    filewriter = csv.writer(csvfile)\n",
        "\n",
        "    # write header\n",
        "    filewriter.writerow(['Question', 'Answer'])\n",
        "    \n",
        "    # write contents\n",
        "    for entry in qa_pairs:\n",
        "      filewriter.writerow(entry)\n",
        "\n",
        "# write_pairs_to_csv(qa_pairs, QA_CSV_SIMPLE_PATH)"
      ],
      "execution_count": null,
      "outputs": []
    },
    {
      "cell_type": "markdown",
      "metadata": {
        "id": "lLvIkDZzkXmf"
      },
      "source": [
        "# Generate Intents for Dialogflow Agent\n",
        "\n",
        "- Parse Q/A pairs from our simple CSV file \n",
        "- Generate paraphrases for each question\n",
        "- Output a list of dialogflow intents to our formatted CSV file\n",
        "- You may manually edit the formatted CSV file after this step to ensure all intents are up to standard"
      ]
    },
    {
      "cell_type": "code",
      "metadata": {
        "id": "yhDuvgCYmN6y"
      },
      "source": [
        "import csv\n",
        "\n",
        "# read entries from csv\n",
        "def read_entries_from_csv(csv_file_path):\n",
        "  with open(csv_file_path, 'r') as csvfile:\n",
        "    filereader = csv.reader(csvfile)\n",
        "\n",
        "    faqs = []\n",
        "    for row in filereader:\n",
        "      faqs.append({\"question\": row[0].replace('/', ''), \"answer\": row[1].replace('/', '')})\n",
        "\n",
        "    return faqs[1:]\n",
        "\n",
        "faqs = read_entries_from_csv(QA_CSV_SIMPLE_PATH)\n",
        "faqs"
      ],
      "execution_count": null,
      "outputs": []
    },
    {
      "cell_type": "code",
      "metadata": {
        "id": "0GtEpmHFEcr2"
      },
      "source": [
        "!pip install transformers==2.8.0"
      ],
      "execution_count": null,
      "outputs": []
    },
    {
      "cell_type": "code",
      "metadata": {
        "colab": {
          "base_uri": "https://localhost:8080/",
          "height": 279,
          "referenced_widgets": [
            "c98f19fe816344c7b33a11f32430a228",
            "a9eb02ed338e46ef96ecb140515fb6bf",
            "c326efb9c00743609e271994e6fc325c",
            "ce60c460e0a2486c881eaf3a124a2d28",
            "f052d0de29684359ba78627b528b064b",
            "ad1dea965df94689a208df8dc27a5057",
            "54001f1c76944d05a890f80e1e7afc30",
            "c03bcf24fb9c4dbe9d1f2cd34acffcac",
            "ce687a67b0f6478c8eeec3e4956a3cf9",
            "59de4c868a2f43aab67b01eeda166e85",
            "813ea5767d73460d8962187178aaeca6",
            "76ff49d717a249de9d28a462a137d415",
            "34a3496f7e8a4c8ba2ea85a1e33c395b",
            "2a951fa9a796431080f2cd98a93ec390",
            "f720b10ba8364d9ea89e0b10abca45e2",
            "55c3d37e3db9405b843c745710b64355",
            "e9df739763c94dd681e8c4d7d8fb8e79",
            "ba0b3a538e7a4d52b91463542e083344",
            "774447d21d3d4852b5afc92cde89b178",
            "8eee104fe1ae4d7385917c98efa7bc61",
            "b31b2e772e1f4a64a7926b18966d2d54",
            "fbc7e093acfa41b9acb7c524549ac14f",
            "69a94fc2b4104f338bf8a1f1889443c5",
            "9d94fcefe03d4bfeb65c8673edbadd0e",
            "6f4f3ec8546944118c5dd35ae72c5dc7",
            "518ce359e14d4afea41c294f8d7ce20b",
            "4604fcef61f049f4a699d28a4266b80f",
            "20e3245135724999b3c33cd9de22a2c8",
            "e838edf1ea444b369b453cd2774dedbc",
            "ed44e14bb00042daa6612b4f4196e7c6",
            "3f4823efd5bc4fecba37f5c88c0372b6",
            "902c48f831f8401e8fc00b13b6d3880f",
            "3255c2d605c74797b9a75ecdba290300",
            "0a28fca601734db4956f8e54b482f68d",
            "b8c9f16e7a934509bd0c93af5fa07971",
            "a1e8be85eb7643a18ff3e7aee384a417",
            "278ddf48d93643e081f961e5a90e160e",
            "b0474327a7e84637aebf16e6ea077bee",
            "e324bfbfe0624ee890d210707b89acaa",
            "f70f1b327dc04fb18fdd00bd2ef6f3e9"
          ]
        },
        "id": "7MleHTbmEX5t",
        "outputId": "b8fb09b3-1695-4f5a-c639-a72c983a7d9e"
      },
      "source": [
        "import torch\n",
        "from transformers import T5ForConditionalGeneration,T5Tokenizer\n",
        "\n",
        "def set_seed(seed):\n",
        "  torch.manual_seed(seed)\n",
        "  if torch.cuda.is_available():\n",
        "    torch.cuda.manual_seed_all(seed)\n",
        "\n",
        "# set seed to make examples reproducible\n",
        "set_seed(42)\n",
        "\n",
        "# load pretrained model for text-to-text conversion\n",
        "model = T5ForConditionalGeneration.from_pretrained('ramsrigouthamg/t5_paraphraser')\n",
        "tokenizer = T5Tokenizer.from_pretrained('ramsrigouthamg/t5_paraphraser')\n",
        "\n",
        "# if GPU is available, set global device to GPU (cuda)\n",
        "device = torch.device(\"cuda\" if torch.cuda.is_available() else \"cpu\")\n",
        "print (\"device \",device)\n",
        "\n",
        "# move model into current device\n",
        "model = model.to(device)"
      ],
      "execution_count": null,
      "outputs": [
        {
          "output_type": "display_data",
          "data": {
            "application/vnd.jupyter.widget-view+json": {
              "model_id": "c98f19fe816344c7b33a11f32430a228",
              "version_minor": 0,
              "version_major": 2
            },
            "text/plain": [
              "HBox(children=(FloatProgress(value=0.0, description='Downloading', max=1208.0, style=ProgressStyle(description…"
            ]
          },
          "metadata": {
            "tags": []
          }
        },
        {
          "output_type": "stream",
          "text": [
            "\n"
          ],
          "name": "stdout"
        },
        {
          "output_type": "display_data",
          "data": {
            "application/vnd.jupyter.widget-view+json": {
              "model_id": "ce687a67b0f6478c8eeec3e4956a3cf9",
              "version_minor": 0,
              "version_major": 2
            },
            "text/plain": [
              "HBox(children=(FloatProgress(value=0.0, description='Downloading', max=891691413.0, style=ProgressStyle(descri…"
            ]
          },
          "metadata": {
            "tags": []
          }
        },
        {
          "output_type": "stream",
          "text": [
            "\n"
          ],
          "name": "stdout"
        },
        {
          "output_type": "display_data",
          "data": {
            "application/vnd.jupyter.widget-view+json": {
              "model_id": "e9df739763c94dd681e8c4d7d8fb8e79",
              "version_minor": 0,
              "version_major": 2
            },
            "text/plain": [
              "HBox(children=(FloatProgress(value=0.0, description='Downloading', max=791656.0, style=ProgressStyle(descripti…"
            ]
          },
          "metadata": {
            "tags": []
          }
        },
        {
          "output_type": "stream",
          "text": [
            "\n"
          ],
          "name": "stdout"
        },
        {
          "output_type": "display_data",
          "data": {
            "application/vnd.jupyter.widget-view+json": {
              "model_id": "ba0b3a538e7a4d52b91463542e083344",
              "version_minor": 0,
              "version_major": 2
            },
            "text/plain": [
              "HBox(children=(FloatProgress(value=0.0, description='Downloading', max=1786.0, style=ProgressStyle(description…"
            ]
          },
          "metadata": {
            "tags": []
          }
        },
        {
          "output_type": "stream",
          "text": [
            "\n"
          ],
          "name": "stdout"
        },
        {
          "output_type": "display_data",
          "data": {
            "application/vnd.jupyter.widget-view+json": {
              "model_id": "3255c2d605c74797b9a75ecdba290300",
              "version_minor": 0,
              "version_major": 2
            },
            "text/plain": [
              "HBox(children=(FloatProgress(value=0.0, description='Downloading', max=25.0, style=ProgressStyle(description_w…"
            ]
          },
          "metadata": {
            "tags": []
          }
        },
        {
          "output_type": "stream",
          "text": [
            "\n",
            "device  cuda\n"
          ],
          "name": "stdout"
        }
      ]
    },
    {
      "cell_type": "code",
      "metadata": {
        "id": "i_d__w4_Gmg6"
      },
      "source": [
        "def paraphrase_sentence(sentence, max_length=256, num_return_sequences=10):\n",
        "  # generate input encoding\n",
        "  text =  \"paraphrase: \" + sentence + \" </s>\"\n",
        "  encoding = tokenizer.encode_plus(text, return_tensors=\"pt\")\n",
        "  input_ids, attention_masks = encoding[\"input_ids\"].to(device), encoding[\"attention_mask\"].to(device)\n",
        "\n",
        "  # specify parameters for paraphrasing model and generate tokenized paraphrases\n",
        "  beam_outputs = model.generate(\n",
        "      input_ids=input_ids, attention_mask=attention_masks,\n",
        "      do_sample=True,\n",
        "      max_length=max_length,\n",
        "      top_k=120,\n",
        "      top_p=0.98,\n",
        "      early_stopping=True,\n",
        "      num_return_sequences=num_return_sequences\n",
        "  )\n",
        "\n",
        "  # iterate through results, decode and filter out repeated paraphrases\n",
        "  final_outputs =[]\n",
        "  for beam_output in beam_outputs:\n",
        "      sent = tokenizer.decode(beam_output, skip_special_tokens=True,clean_up_tokenization_spaces=True)\n",
        "      if sent.lower() != sentence.lower() and sent not in final_outputs:\n",
        "          final_outputs.append(sent)\n",
        "  \n",
        "  return final_outputs"
      ],
      "execution_count": null,
      "outputs": []
    },
    {
      "cell_type": "code",
      "metadata": {
        "id": "4OLyFhKtnLL6"
      },
      "source": [
        "# generate all paraphrases\n",
        "for entry in faqs:\n",
        "  entry['paraphrases'] = paraphrase_sentence(entry['question'])"
      ],
      "execution_count": null,
      "outputs": []
    },
    {
      "cell_type": "code",
      "metadata": {
        "id": "Bh_LNgNdHNPw"
      },
      "source": [
        "# write faqs in desired format\n",
        "def write_formatted_faq_to_csv(faqs, csv_file_path):\n",
        "  with open(csv_file_path, 'w') as csvfile:\n",
        "    filewriter = csv.writer(csvfile)\n",
        "\n",
        "    # write header\n",
        "    filewriter.writerow(['IntentID', 'IntentName', 'Query', 'Response'])\n",
        "    \n",
        "    # write contents\n",
        "    for idx, entry in enumerate(faqs):\n",
        "      filewriter.writerow([str(idx + 1), entry['question'].replace('/', ''), \\\n",
        "                           entry['question'].replace('/', ''), entry['answer']])\n",
        "      for paraphrase in entry['paraphrases']:\n",
        "        filewriter.writerow([str(idx + 1), '', paraphrase, ''])\n",
        "\n",
        "write_formatted_faq_to_csv(faqs, QA_CSV_FORMATTED_PATH)"
      ],
      "execution_count": null,
      "outputs": []
    },
    {
      "cell_type": "markdown",
      "metadata": {
        "id": "f-_M4eVClR-T"
      },
      "source": [
        "# Generate Dialogflow Agent\n",
        "\n",
        "- Specify output path\n",
        "- Read intents from formatted CSV\n",
        "- specify keywords to filter out unnecessary/incorrectly paraphrased questions\n",
        "- Add default intents and format output\n",
        "- Generate an importable Dialogflow agent"
      ]
    },
    {
      "cell_type": "code",
      "metadata": {
        "id": "65vAxFqjlmrw"
      },
      "source": [
        "# specify output folder name\n",
        "OUTPUT_FOLDER_NAME = 'akuryla_usa_output'\n",
        "\n",
        "output_path = BASE_PATH + '/' + OUTPUT_FOLDER_NAME\n",
        "intent_path = output_path + '/intents'"
      ],
      "execution_count": null,
      "outputs": []
    },
    {
      "cell_type": "code",
      "metadata": {
        "id": "P7K1eiI4aEM8"
      },
      "source": [
        "import csv\n",
        "\n",
        "def read_formatted_csv_to_faq(csv_file_path):\n",
        "  with open(csv_file_path, 'r') as csvfile:\n",
        "    filereader = csv.reader(csvfile)\n",
        "\n",
        "    faqs = []\n",
        "    curr_entry = {}\n",
        "    curr_intent_id = '-1'\n",
        "\n",
        "    for idx, row in enumerate(filereader):\n",
        "      # skip headers\n",
        "      if idx == 0:\n",
        "        continue\n",
        "\n",
        "      # check whether it's a new question\n",
        "      if curr_intent_id != row[0]:\n",
        "        # set current intent id\n",
        "        curr_intent_id = row[0]\n",
        "\n",
        "        # if entry is not empty, add to faqs\n",
        "        if curr_entry:\n",
        "          faqs.append(curr_entry)\n",
        "\n",
        "        # initialize current entry\n",
        "        curr_entry = {'question': row[1], 'answer': row[3], 'paraphrases': []}\n",
        "      else:\n",
        "        # add paraphrase to curr_entry\n",
        "        curr_entry['paraphrases'].append(row[2])\n",
        "\n",
        "    return faqs\n",
        "\n",
        "faqs = read_formatted_csv_to_faq(QA_CSV_FORMATTED_PATH)\n",
        "faqs"
      ],
      "execution_count": null,
      "outputs": []
    },
    {
      "cell_type": "code",
      "metadata": {
        "id": "F16ymtq5CKQK"
      },
      "source": [
        "def add_default_intents(faqs):\n",
        "  faqs.append({\n",
        "      \"question\": \"Default Welcome Intent\",\n",
        "      \"answer\": \"Greetings! I am Vaccine chatbot. You can ask me questions about COVID-19 vaccines such as vaccine safety, side effects, immunity and allergies.\",\n",
        "      \"paraphrases\": [\"Hi\",\n",
        "                      \"Hello\",\n",
        "                      \"Hi there\",\n",
        "                      \"Hey there\",\n",
        "                      \"Heya\",\n",
        "                      \"Howdy\",\n",
        "                      \"How are you?\",\n",
        "                      \"Just going to say hi\"]})\n",
        "  faqs.append({\n",
        "      \"question\": \"Default Fallback Intent\",\n",
        "      \"answer\": \"I'm sorry, I don't think I can answer that question. Please try again.\",\n",
        "      \"paraphrases\": []})\n",
        "  faqs.append({\n",
        "      \"question\": \"End Session\",\n",
        "      \"answer\": \"\",\n",
        "      \"paraphrases\": [\"OK\", \n",
        "                      \"Thank you\", \n",
        "                      \"That's enough\",\n",
        "                      \"Good bye\",\n",
        "                      \"Bye\",\n",
        "                      \"See you\",\n",
        "                      \"Stop\",\n",
        "                      \"No\"]})\n",
        "\n",
        "\n",
        "# you may filter out paraphrases by keyword\n",
        "def should_filter(phrase, keywords):\n",
        "  return any(elmt.lower() in phrase.lower() for elmt in keywords)\n",
        "  \n",
        "def filter_keywords(faqs, keywords):\n",
        "  for faq in faqs:\n",
        "    faq['paraphrases'] = [x for x in faq['paraphrases'] if not should_filter(x, keywords)]\n",
        "\n",
        "add_default_intents(faqs)\n",
        "\n",
        "keywords = [\"HIV\", \"AIDS\", \"cholera\", \"cattle\", \"cow\", \"colibid\", \"covirid\", \\\n",
        "            \"covarid\", \"SVDC-19\"]\n",
        "\n",
        "filter_keywords(faqs, keywords)\n",
        "faqs"
      ],
      "execution_count": null,
      "outputs": []
    },
    {
      "cell_type": "code",
      "metadata": {
        "id": "ENeEccqlnYQ-"
      },
      "source": [
        "import os\n",
        "\n",
        "def make_folder_if_absent(output_path, intent_path):\n",
        "  if not os.path.exists(output_path):\n",
        "      os.makedirs(output_path)\n",
        "\n",
        "  if not os.path.exists(intent_path):\n",
        "      os.makedirs(intent_path)\n",
        "\n",
        "make_folder_if_absent(output_path, intent_path)"
      ],
      "execution_count": null,
      "outputs": []
    },
    {
      "cell_type": "code",
      "metadata": {
        "id": "V4_2ORURseez"
      },
      "source": [
        "import uuid\n",
        "\n",
        "# there will be one question entity element per paraphrased/original question\n",
        "def make_question_entity_element(question):\n",
        "  return {\n",
        "    \"id\": str(uuid.uuid1()),\n",
        "    \"data\": [\n",
        "      {\n",
        "        \"text\": question,\n",
        "        \"userDefined\": False\n",
        "      }\n",
        "    ],\n",
        "    \"isTemplate\": False,\n",
        "    \"count\": 0,\n",
        "    \"lang\": \"en\",\n",
        "    \"updated\": 0\n",
        "  }\n",
        "\n",
        "# a question entity is a collection of question entity elements\n",
        "def make_question_entity(question, paraphrases):\n",
        "  question_entity = []\n",
        "\n",
        "  question_entity.append(make_question_entity_element(question))\n",
        "\n",
        "  for paraphrase in paraphrases:\n",
        "    question_entity.append(make_question_entity_element(paraphrase))\n",
        "  \n",
        "  return question_entity\n",
        "\n",
        "# answer entities typically consist of a single object\n",
        "def make_answer_entity(intent_name, answer):\n",
        "  return {\n",
        "    \"id\": str(uuid.uuid1()),\n",
        "    \"name\": intent_name,\n",
        "    \"auto\": True,\n",
        "    \"contexts\": [],\n",
        "    \"responses\": [\n",
        "      {\n",
        "        \"resetContexts\": False,\n",
        "        \"action\": \"\",\n",
        "        \"affectedContexts\": [],\n",
        "        \"parameters\": [],\n",
        "        \"messages\": [\n",
        "          {\n",
        "            \"type\": \"0\",\n",
        "            \"title\": \"\",\n",
        "            \"textToSpeech\": \"\",\n",
        "            \"lang\": \"en\",\n",
        "            \"speech\": [answer],\n",
        "            \"condition\": \"\"\n",
        "          }\n",
        "        ],\n",
        "        \"speech\": []\n",
        "      }\n",
        "    ],\n",
        "    \"priority\": 500000,\n",
        "    \"webhookUsed\": False,\n",
        "    \"webhookForSlotFilling\": False,\n",
        "    \"fallbackIntent\": False,\n",
        "    \"events\": [],\n",
        "    \"conditionalResponses\": [],\n",
        "    \"condition\": \"\",\n",
        "    \"conditionalFollowupEvents\": []\n",
        "  }"
      ],
      "execution_count": null,
      "outputs": []
    },
    {
      "cell_type": "code",
      "metadata": {
        "id": "8i65_KiZwKmh"
      },
      "source": [
        "def format_answer(question, answer):\n",
        "  # only format non-default answers\n",
        "  if question.startswith(\"Default Welcome Intent\") \\\n",
        "  or question.startswith(\"Default Fallback Intent\"):\n",
        "    return answer\n",
        "  else:\n",
        "    return \"Q: \" + question + \"\\nA: \" + answer\n",
        "\n",
        "for idx, entry in enumerate(faqs):\n",
        "  entry['intent_name'] = f\"VaccineFAQ.{entry['question']}\"[:56]\n",
        "  entry['question_entity'] = make_question_entity(entry['question'], entry['paraphrases'])\n",
        "  entry['answer_entity'] = make_answer_entity(entry['intent_name'], format_answer(entry['question'], entry['answer']))"
      ],
      "execution_count": null,
      "outputs": []
    },
    {
      "cell_type": "code",
      "metadata": {
        "id": "MJMrapFIui-S"
      },
      "source": [
        "import json\n",
        "\n",
        "agent={\n",
        "  \"description\": \"\",\n",
        "  \"language\": \"en\",\n",
        "  \"shortDescription\": \"\",\n",
        "  \"examples\": \"\",\n",
        "  \"linkToDocs\": \"\",\n",
        "  \"displayName\": \"Vaccine-Bot-FAQ\",\n",
        "  \"disableInteractionLogs\": False,\n",
        "  \"disableStackdriverLogs\": True,\n",
        "  \"defaultTimezone\": \"America/New_York\",\n",
        "  \"isPrivate\": False,\n",
        "  \"mlMinConfidence\": 0.3,\n",
        "  \"supportedLanguages\": [\"en\"],\n",
        "  \"enableOnePlatformApi\": True,\n",
        "  \"onePlatformApiVersion\": \"v2beta1\",\n",
        "  \"secondaryKey\": \"9d74e6a3640d4ce3807cf42e2fdcea79\",\n",
        "  \"analyzeQueryTextSentiment\": False,\n",
        "  \"enabledKnowledgeBaseNames\": [],\n",
        "  \"knowledgeServiceConfidenceAdjustment\": 0.0,\n",
        "  \"dialogBuilderMode\": False,\n",
        "  \"baseActionPackagesUrl\": \"\",\n",
        "  \"enableSpellCorrection\": False\n",
        "}\n",
        "\n",
        "package={\n",
        "  \"version\": \"1.0.0\"\n",
        "}\n",
        "\n",
        "def write_to_output_path(faqs):\n",
        "  with open(output_path + \"/agent.json\", 'w') as outfile:\n",
        "    json.dump(agent, outfile)\n",
        "\n",
        "  with open(output_path + \"/package.json\", 'w') as outfile:\n",
        "    json.dump(package, outfile)\n",
        "\n",
        "  for entry in faqs:\n",
        "    with open(output_path + \"/intents/\" + entry[\"intent_name\"] + \"_usersays_en.json\", 'w') as outfile:\n",
        "      json.dump(entry['question_entity'], outfile)\n",
        "\n",
        "    with open(output_path + \"/intents/\" + entry[\"intent_name\"] + \".json\", 'w') as outfile:\n",
        "      json.dump(entry['answer_entity'], outfile)\n",
        "\n",
        "write_to_output_path(faqs)"
      ],
      "execution_count": null,
      "outputs": []
    }
  ]
}
